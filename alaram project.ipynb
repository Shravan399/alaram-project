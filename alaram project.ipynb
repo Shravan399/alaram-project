{
 "cells": [
  {
   "cell_type": "code",
   "execution_count": 1,
   "metadata": {},
   "outputs": [
    {
     "name": "stdout",
     "output_type": "stream",
     "text": [
      "Collecting playsound\n",
      "  Downloading https://files.pythonhosted.org/packages/f5/16/10d897b0a83fb4b05b03a63d7a2667ab75f857f67f7062fd447dd3f49bf7/playsound-1.2.2-py2.py3-none-any.whl\n",
      "Installing collected packages: playsound\n",
      "Successfully installed playsound-1.2.2\n",
      "Note: you may need to restart the kernel to use updated packages.\n"
     ]
    }
   ],
   "source": [
    "pip install playsound"
   ]
  },
  {
   "cell_type": "code",
   "execution_count": 1,
   "metadata": {},
   "outputs": [],
   "source": [
    "from datetime import datetime"
   ]
  },
  {
   "cell_type": "code",
   "execution_count": 2,
   "metadata": {},
   "outputs": [],
   "source": [
    "from playsound import playsound"
   ]
  },
  {
   "cell_type": "code",
   "execution_count": null,
   "metadata": {},
   "outputs": [
    {
     "name": "stdout",
     "output_type": "stream",
     "text": [
      "Enter the time of alarm to be set:HH:MM:SS\n",
      "16:33:00\n",
      "Setting up alarm..\n"
     ]
    }
   ],
   "source": [
    "alarm_time = input(\"Enter the time of alarm to be set:HH:MM:SS\\n\")\n",
    "alarm_hour=alarm_time[0:2]\n",
    "alarm_minute=alarm_time[3:5]\n",
    "alarm_seconds=alarm_time[6:8]\n",
    "alarm_period = alarm_time[9:11].upper()\n",
    "print(\"Setting up alarm..\")\n",
    "while True:\n",
    "    now = datetime.now()\n",
    "    current_hour = now.strftime(\"%I\")\n",
    "    current_minute = now.strftime(\"%M\")\n",
    "    current_seconds = now.strftime(\"%S\")\n",
    "    current_period = now.strftime(\"%p\")\n",
    "    if(alarm_period==current_period):\n",
    "        if(alarm_hour==current_hour):\n",
    "            if(alarm_minute==current_minute):\n",
    "                if(alarm_seconds==current_seconds):\n",
    "                    print(\"Wake Up!\")\n",
    "                    playsound('audio.mp3')\n",
    "                    break"
   ]
  },
  {
   "cell_type": "code",
   "execution_count": null,
   "metadata": {},
   "outputs": [],
   "source": []
  }
 ],
 "metadata": {
  "kernelspec": {
   "display_name": "Python 3",
   "language": "python",
   "name": "python3"
  },
  "language_info": {
   "codemirror_mode": {
    "name": "ipython",
    "version": 3
   },
   "file_extension": ".py",
   "mimetype": "text/x-python",
   "name": "python",
   "nbconvert_exporter": "python",
   "pygments_lexer": "ipython3",
   "version": "3.7.3"
  }
 },
 "nbformat": 4,
 "nbformat_minor": 2
}
